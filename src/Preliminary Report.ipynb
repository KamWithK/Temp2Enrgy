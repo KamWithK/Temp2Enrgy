{
 "cells": [
  {
   "cell_type": "markdown",
   "metadata": {},
   "source": [
    "# Priliminary Report\n",
    "## Active members of your group\n",
    "- Kamron Bhavnagri\n",
    "- Javis Nheu\n",
    "- Stacey Smith\n",
    "- Xingyu Liang\n",
    "- Haitong Zhu\n",
    "## A brief description of your project and details of the supplied data. (2-3 paragraphs)\n",
    "- Our project has the aim of finding the correlation between energy demand and weather temperature within Australia.\n",
    "## Your goals for the project for this semester. (1 paragraph)\n",
    "\n",
    "## Your progress so far and the contribution of each of the members. (2 paragraphs)\n",
    "\n",
    "## The processes that you have set up for your project, e.g., division of responsibilities, external meetings, communication channels, repositories for sharing of information. (1 paragraph)\n",
    "- We have a github repository for our project\n",
    "- We have a zoom meeting every Thursday at 4pm outside of class\n",
    "- We frequently communicate via Discord\n",
    "## Any hurdles that you need to address or foresee for the completion of your goals for this project. (1 paragraph)\n"
   ]
  }
 ],
 "metadata": {
  "kernelspec": {
   "display_name": "Python 3",
   "language": "python",
   "name": "python3"
  },
  "language_info": {
   "codemirror_mode": {
    "name": "ipython",
    "version": 3
   },
   "file_extension": ".py",
   "mimetype": "text/x-python",
   "name": "python",
   "nbconvert_exporter": "python",
   "pygments_lexer": "ipython3",
   "version": "3.7.6"
  }
 },
 "nbformat": 4,
 "nbformat_minor": 4
}
