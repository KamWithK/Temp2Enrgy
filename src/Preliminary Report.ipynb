{
 "cells": [
  {
   "cell_type": "markdown",
   "metadata": {},
   "source": [
    "# Preliminary Report\n",
    "## Active members of your group\n",
    "- Kamron Bhavnagri\n",
    "- Javis Nheu\n",
    "- Stacey Smith\n",
    "- Xingyu Liang\n",
    "- Haitong Zhu\n",
    "\n",
    "## A brief description of your project and details of the supplied data. (2-3 paragraphs)\n",
    "Our project has the aim of finding the correlation between energy demand and weather temperature within Australia.\n",
    "We were given weather data from the Bureau of Meteorology (BOM) Automatic Weather Stations. The gave half hourly temperatures over a 20-year period in the capital cities of Hobart, Melbourne, Adelaide, Sydney and Brisbane. We are also using energy demand data from The Australian Energy Market Operator which is also every half hour for the 5 east coast states of South Australia, Victoria, New South Wales, Queensland and Tasmania.\n",
    "We were asked to look primarily at the relationship between the demand and temperature however to also consider a variety of other representations of the single data sets like changes in daily average temperatures, daily cycles of temperature and demand as a few examples.\n",
    "\n",
    "## Your goals for the project for this semester. (1 paragraph)\n",
    "\n",
    "\n",
    "## Your progress so far and the contribution of each of the members. (2 paragraphs)\n",
    "So far we have imported the data from the files supplied to us for this project and have done some cleaning of these data frames, like renaming columns, removing columns, combining data. We are also in the process of merging the weather and energy data sets together while having to consider null values, repeated rows and irregular date intervals.\n",
    "\n",
    "## The processes that you have set up for your project, e.g., division of responsibilities, external meetings, communication channels, repositories for sharing of information. (1 paragraph)\n",
    "For our project, we have established a GitHub repository for our project. Outside of our workshops, we have an external meeting once a week via Zoom at 4pm every Thursday to guarantee regular communication as a group. We also frequently communicate via Discord as our main communication channel.\n",
    "\n",
    "## Any hurdles that you need to address or foresee for the completion of your goals for this project. (1 paragraph)\n"
   ]
  },
  {
   "cell_type": "code",
   "execution_count": null,
   "metadata": {},
   "outputs": [],
   "source": []
  }
 ],
 "metadata": {
  "kernelspec": {
   "display_name": "Python 3",
   "language": "python",
   "name": "python3"
  },
  "language_info": {
   "codemirror_mode": {
    "name": "ipython",
    "version": 3
   },
   "file_extension": ".py",
   "mimetype": "text/x-python",
   "name": "python",
   "nbconvert_exporter": "python",
   "pygments_lexer": "ipython3",
   "version": "3.7.6"
  }
 },
 "nbformat": 4,
 "nbformat_minor": 4
}
